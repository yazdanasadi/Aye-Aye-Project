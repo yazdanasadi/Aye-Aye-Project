{
 "cells": [
  {
   "cell_type": "code",
   "execution_count": 3,
   "metadata": {},
   "outputs": [],
   "source": [
    "import pandas as pd\n",
    "import numpy as np\n",
    "from sklearn.ensemble import RandomForestRegressor\n",
    "from sklearn.linear_model import LogisticRegression, ElasticNet\n",
    "from sklearn.feature_selection import SelectFromModel\n",
    "from xgboost import XGBRegressor\n",
    "from boruta import BorutaPy\n",
    "from scipy.stats import pearsonr, spearmanr, kendalltau\n"
   ]
  },
  {
   "cell_type": "code",
   "execution_count": 4,
   "metadata": {},
   "outputs": [],
   "source": [
    "def feature_selection_and_correlation(data, target_col, n_features=5):\n",
    "    # Data Prepration    \n",
    "    X = data.drop(columns=[target_col])\n",
    "    y = data[target_col]\n",
    "    \n",
    "    results = {}\n",
    "    \n",
    "    # Boruta Algorithm\n",
    "    rf = RandomForestRegressor(n_jobs=-1, max_depth=5)\n",
    "    boruta = BorutaPy(rf, n_estimators='auto', verbose=0, random_state=1)\n",
    "    boruta.fit(X.values, y.values)\n",
    "    boruta_features = X.columns[boruta.support_].tolist()\n",
    "    results['boruta'] = boruta_features[:min(n_features, len(boruta_features))]\n",
    "    \n",
    "    # XGBoost\n",
    "    xgb = XGBRegressor(n_estimators=100)\n",
    "    xgb.fit(X, y)\n",
    "    xgb_importance = pd.DataFrame({'feature': X.columns, 'importance': xgb.feature_importances_})\n",
    "    xgb_importance = xgb_importance.sort_values('importance', ascending=False)\n",
    "    results['xgboost'] = xgb_importance['feature'].tolist()[:min(n_features, len(X.columns))]\n",
    "    \n",
    "    # Random Forest\n",
    "    rf = RandomForestRegressor(n_estimators=100)\n",
    "    rf.fit(X, y)\n",
    "    rf_importance = pd.DataFrame({'feature': X.columns, 'importance': rf.feature_importances_})\n",
    "    rf_importance = rf_importance.sort_values('importance', ascending=False)\n",
    "    results['random_forest'] = rf_importance['feature'].tolist()[:min(n_features, len(X.columns))]\n",
    "    \n",
    "    # Logistic Regression\n",
    "    lr = LogisticRegression(penalty='l1', solver='liblinear')\n",
    "    lr.fit(X, y)\n",
    "    lr_importance = pd.DataFrame({'feature': X.columns, 'importance': np.abs(lr.coef_[0])})\n",
    "    lr_importance = lr_importance.sort_values('importance', ascending=False)\n",
    "    results['logistic_regression'] = lr_importance['feature'].tolist()[:min(n_features, len(X.columns))]\n",
    "    \n",
    "    # Elastic Net\n",
    "    en = ElasticNet(alpha=1, l1_ratio=0.5)\n",
    "    en.fit(X, y)\n",
    "    en_importance = pd.DataFrame({'feature': X.columns, 'importance': np.abs(en.coef_)})\n",
    "    en_importance = en_importance.sort_values('importance', ascending=False)\n",
    "    results['elastic_net'] = en_importance['feature'].tolist()[:min(n_features, len(X.columns))]\n",
    "    \n",
    "    # Calculate correlations\n",
    "    correlations = {}\n",
    "    for method, features in results.items():\n",
    "        pearson = [pearsonr(X[feature], y)[0] for feature in features]\n",
    "        spearman = [spearmanr(X[feature], y)[0] for feature in features]\n",
    "        kendall = [kendalltau(X[feature], y)[0] for feature in features]\n",
    "        correlations[method] = pd.DataFrame({\n",
    "            'Feature': features,\n",
    "            'Pearson': pearson,\n",
    "            'Spearman': spearman,\n",
    "            'Kendall': kendall\n",
    "        })\n",
    "    \n",
    "    return {'selected_features': results, 'correlations': correlations}"
   ]
  },
  {
   "cell_type": "code",
   "execution_count": null,
   "metadata": {},
   "outputs": [],
   "source": []
  },
  {
   "cell_type": "code",
   "execution_count": null,
   "metadata": {},
   "outputs": [],
   "source": [
    "result = feature_selection_and_correlation(data, 'target')\n",
    "print(result['selected_features'])\n",
    "print(result['correlations'])"
   ]
  }
 ],
 "metadata": {
  "kernelspec": {
   "display_name": "rectifyre",
   "language": "python",
   "name": "python3"
  },
  "language_info": {
   "codemirror_mode": {
    "name": "ipython",
    "version": 3
   },
   "file_extension": ".py",
   "mimetype": "text/x-python",
   "name": "python",
   "nbconvert_exporter": "python",
   "pygments_lexer": "ipython3",
   "version": "3.8.18"
  }
 },
 "nbformat": 4,
 "nbformat_minor": 2
}
